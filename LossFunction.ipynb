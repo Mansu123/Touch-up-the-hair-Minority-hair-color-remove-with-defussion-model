{
  "nbformat": 4,
  "nbformat_minor": 0,
  "metadata": {
    "colab": {
      "provenance": []
    },
    "kernelspec": {
      "name": "python3",
      "display_name": "Python 3"
    },
    "language_info": {
      "name": "python"
    }
  },
  "cells": [
    {
      "cell_type": "code",
      "execution_count": null,
      "metadata": {
        "id": "2xUOxyH44g4s"
      },
      "outputs": [],
      "source": [
        "def loss(image, min_color_mask, maj_color_mask):\n",
        "  \"\"\"\n",
        "  This function computes the Wasserstein distance (aka Earth Mover's Distance) between the probability distributions of (grayscale) pixel intentsities between the minority and majority color segmentation masks.\n",
        "\n",
        "  In theory, having the touched up region's pixel color distribution appear as similar as possible to that of the majority color region is desirable because\n",
        "  the touched up region will blend in better with the remainder of the hair. This improves the color while preserving more \"naturalness\".  Natural hair texture is often lost because it\n",
        "  appears that the hair texture in an image is numerically represented by particular patterns of minor variations in RGB values (the RGB values of which are approximated by grayscale pixel intensity)\n",
        "  and that these patters are vulnerable to being \"smoothed\" out of existence by the Stable Diffusion model.  Attempting to optimize this loss function is attempting to minimize the amount of\n",
        "  \"smoothness\" afflicting the touched up region while pushing the mean (and median) pixel color in the direction of the majority color region.\n",
        "\n",
        "\n",
        "  Parameters:\n",
        "  image (numpy array): The original image.\n",
        "  min_color_mask (numpy array): The minority color segmentation mask.\n",
        "  maj_color_mask (numpy array): The majority color segmentation mask.\n",
        "\n",
        "  Returns:\n",
        "  loss (float): The Wasserstein distance between the probability distributions of (grayscale) pixel intentsities between the minority and majority color segmentation masks.\n",
        "  \"\"\"\n",
        "\n",
        "  # Create black background image equal in size to the original image\n",
        "  colored_min_region = np.zeros_like(image)\n",
        "  colored_maj_region = np.zeros_like(image)\n",
        "\n",
        "  # Extract the indices of the pixel regions of each mask\n",
        "  min_mask_regions = np.where(min_color_mask > 0)\n",
        "  maj_mask_regions = np.where(maj_color_mask > 0)\n",
        "\n",
        "  # Map the colored pixels from the minority and majority color segmentation masks onto the black background image\n",
        "  colored_min_region[min_mask_regions] = image[min_mask_regions]\n",
        "  colored_maj_region[maj_mask_regions] = image[maj_mask_regions]\n",
        "\n",
        "  \"\"\"\n",
        "  The two lines below convert RGB images to grayscale images.\n",
        "  NOTE: The formula to do, based on relative perception of color brightness, is the following: 0.299 ∙ Red + 0.587 ∙ Green + 0.114 ∙ Blue\n",
        "  The corresponding grayscale pixel value is a weighted sum of the RGB pixel values and represents the pixel \"intensity\".\n",
        "  \"\"\"\n",
        "  gray_min_region = cv2.cvtColor(colored_min_region, cv2.COLOR_BGR2GRAY)\n",
        "  gray_maj_region = cv2.cvtColor(colored_maj_region, cv2.COLOR_BGR2GRAY)\n",
        "\n",
        "  # Flatten each greyscale image to a vector\n",
        "  gray_min_vector = gray_min_region.flatten()\n",
        "  gray_maj_vector = gray_maj_region.flatten()\n",
        "\n",
        "  # Extract nonzero pixel values (ie discard the black background pixels)\n",
        "  gray_min_pixels = gray_min_vector[gray_min_vector > 0]\n",
        "  gray_maj_pixels = gray_maj_vector[gray_maj_vector > 0]\n",
        "\n",
        "  # Compute histogram of pixel intensities for the minority color segmentation mask\n",
        "  min_mask_distribution = np.bincount(gray_min_pixels) / gray_min_pixels.size\n",
        "\n",
        "  # Compute histogram of pixel intensities for the majority color segmentation mask\n",
        "  maj_mask_distribution = np.bincount(gray_maj_pixels) / gray_maj_pixels.size\n",
        "\n",
        "  # Ensure that the probability distribtion sums to 1\n",
        "  assert(min_mask_distribution.sum() == 1)\n",
        "  assert(maj_mask_distribution.sum() == 1)\n",
        "\n",
        "  # Compute Wasserstein distance between the two histograms of pixel intensities\n",
        "  distribution_distance = scipy.stats.wasserstein_distance(min_mask_distribution, maj_mask_distribution, u_weights=None, v_weights=None)\n",
        "  loss = distribution_distance\n",
        "\n",
        "  return loss"
      ]
    }
  ]
}